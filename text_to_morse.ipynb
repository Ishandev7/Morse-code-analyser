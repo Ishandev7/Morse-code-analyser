{
 "cells": [
  {
   "cell_type": "code",
   "execution_count": 5,
   "id": "ece909a8-9b7c-4848-9fa7-3c0ac3f2fd7e",
   "metadata": {},
   "outputs": [
    {
     "name": "stdout",
     "output_type": "stream",
     "text": [
      "Collecting pydub\n",
      "  Downloading pydub-0.25.1-py2.py3-none-any.whl.metadata (1.4 kB)\n",
      "Downloading pydub-0.25.1-py2.py3-none-any.whl (32 kB)\n",
      "Installing collected packages: pydub\n",
      "Successfully installed pydub-0.25.1\n"
     ]
    }
   ],
   "source": [
    "!pip install pydub\n"
   ]
  },
  {
   "cell_type": "code",
   "execution_count": 13,
   "id": "484a1caf-1523-4cba-8cee-f9e677c06c72",
   "metadata": {},
   "outputs": [
    {
     "name": "stdin",
     "output_type": "stream",
     "text": [
      "🔡 Enter text to convert to Morse sound:  ISHAN IS A BAD GUY\n"
     ]
    },
    {
     "name": "stdout",
     "output_type": "stream",
     "text": [
      "📡 Morse Code: .. ... .... .- -. / .. ... / .- / -... .- -.. / --. ..- -.--\n"
     ]
    },
    {
     "name": "stdin",
     "output_type": "stream",
     "text": [
      "💾 Enter filename to save as (leave blank for 'output.wav'):  ishan.wav\n"
     ]
    },
    {
     "name": "stdout",
     "output_type": "stream",
     "text": [
      "✅ Morse audio file saved as: ishan.wav\n"
     ]
    }
   ],
   "source": [
    "# morse_to_audio.py\n",
    "from pydub import AudioSegment\n",
    "from pydub.generators import Sine\n",
    "\n",
    "# Constants\n",
    "MORSE_UNIT = 200  # milliseconds\n",
    "DOT = MORSE_UNIT\n",
    "DASH = MORSE_UNIT * 3\n",
    "FREQ = 800  # Hz for beep tone\n",
    "\n",
    "# Morse code dictionary\n",
    "MORSE_DICT = {\n",
    "    'A': '.-', 'B': '-...', 'C': '-.-.', 'D': '-..',\n",
    "    'E': '.',  'F': '..-.', 'G': '--.',  'H': '....',\n",
    "    'I': '..', 'J': '.---', 'K': '-.-',  'L': '.-..',\n",
    "    'M': '--', 'N': '-.',   'O': '---',  'P': '.--.',\n",
    "    'Q': '--.-','R': '.-.', 'S': '...',  'T': '-',\n",
    "    'U': '..-', 'V': '...-', 'W': '.--', 'X': '-..-',\n",
    "    'Y': '-.--','Z': '--..',\n",
    "    '1': '.----','2': '..---','3': '...--','4': '....-',\n",
    "    '5': '.....','6': '-....','7': '--...','8': '---..',\n",
    "    '9': '----.','0': '-----',\n",
    "    ' ': '/'\n",
    "}\n",
    "\n",
    "def text_to_morse(text):\n",
    "    morse = []\n",
    "    for char in text.upper():\n",
    "        if char in MORSE_DICT:\n",
    "            morse.append(MORSE_DICT[char])\n",
    "    return \" \".join(morse)\n",
    "\n",
    "def generate_beep(duration_ms):\n",
    "    return Sine(FREQ).to_audio_segment(duration=duration_ms)\n",
    "\n",
    "def morse_to_audio(morse_code, filename=\"output.wav\"):\n",
    "    dot = generate_beep(DOT)\n",
    "    dash = generate_beep(DASH)\n",
    "    intra_char_gap = AudioSegment.silent(duration=MORSE_UNIT)\n",
    "    inter_char_gap = AudioSegment.silent(duration=MORSE_UNIT * 3)\n",
    "    word_gap = AudioSegment.silent(duration=MORSE_UNIT * 7)\n",
    "\n",
    "    output = AudioSegment.silent(duration=0)\n",
    "\n",
    "    for symbol in morse_code:\n",
    "        if symbol == '.':\n",
    "            output += dot + intra_char_gap\n",
    "        elif symbol == '-':\n",
    "            output += dash + intra_char_gap\n",
    "        elif symbol == ' ':\n",
    "            output += inter_char_gap\n",
    "        elif symbol == '/':\n",
    "            output += word_gap\n",
    "\n",
    "    output.export(filename, format=\"wav\")\n",
    "    print(f\"✅ Morse audio file saved as: {filename}\")\n",
    "\n",
    "# Run interactively\n",
    "if __name__ == \"__main__\":\n",
    "    user_text = input(\"🔡 Enter text to convert to Morse sound: \")\n",
    "    morse_code = text_to_morse(user_text)\n",
    "    print(f\"📡 Morse Code: {morse_code}\")\n",
    "    custom_name = input(\"💾 Enter filename to save as (leave blank for 'output.wav'): \").strip()\n",
    "    if not custom_name:\n",
    "        custom_name = \"output.wav\"\n",
    "    elif not custom_name.endswith(\".wav\"):\n",
    "        custom_name += \".wav\"\n",
    "    morse_to_audio(morse_code, filename=custom_name)\n"
   ]
  },
  {
   "cell_type": "code",
   "execution_count": null,
   "id": "ef7e12d7-89cd-4970-8920-7052d9a043a6",
   "metadata": {},
   "outputs": [],
   "source": []
  }
 ],
 "metadata": {
  "kernelspec": {
   "display_name": "Python 3 (ipykernel)",
   "language": "python",
   "name": "python3"
  },
  "language_info": {
   "codemirror_mode": {
    "name": "ipython",
    "version": 3
   },
   "file_extension": ".py",
   "mimetype": "text/x-python",
   "name": "python",
   "nbconvert_exporter": "python",
   "pygments_lexer": "ipython3",
   "version": "3.11.8"
  }
 },
 "nbformat": 4,
 "nbformat_minor": 5
}
